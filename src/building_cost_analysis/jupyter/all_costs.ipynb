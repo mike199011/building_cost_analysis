{
 "cells": [
  {
   "cell_type": "code",
   "execution_count": null,
   "id": "4e7bb4f5-0781-42d7-92eb-5ec56babdcf2",
   "metadata": {},
   "outputs": [],
   "source": [
    "import pandas as pd\n",
    "import numpy as np\n",
    "\n",
    "# 3 parts:\n",
    "# kostenschätzung\n",
    "# ausgabenberechnung (bilanz berechnen => schätzung vs. tatsächliche kosten)\n",
    "# kostenvergleich"
   ]
  },
  {
   "cell_type": "code",
   "execution_count": null,
   "id": "4e455f2c",
   "metadata": {},
   "outputs": [],
   "source": []
  },
  {
   "cell_type": "code",
   "execution_count": null,
   "id": "aa36241b-71ca-49d4-b865-6814cb43727e",
   "metadata": {},
   "outputs": [],
   "source": [
    "from building_cost_analysis.settings import (\n",
    "    DIR_ANGEBOTE,\n",
    "    PATH_GEWERKE,\n",
    "    PATH_AUSGABEN,\n",
    "    PATH_KOSTENUEBERSICHT\n",
    ")\n",
    "from building_cost_analysis.parser import (\n",
    "    get_df_gewerke,\n",
    "    get_offer_file_paths,\n",
    "    get_offer_file_paths_and_sheets,\n",
    "    get_df_offer,\n",
    "    get_df_offers_combined,\n",
    "    get_list_df_offers\n",
    ")\n",
    "\n",
    "from building_cost_analysis.calc import (\n",
    "    append_rolled_up_sum_to_df,\n",
    "    get_df_duplicated_positions,\n",
    "    compare_offers,\n",
    "    get_missing_positions\n",
    ")\n",
    "\n",
    "# get_df_offers_combined\n",
    "list_paths_sheets = get_offer_file_paths_and_sheets(DIR_ANGEBOTE)\n",
    "df_gewerke = get_df_gewerke(PATH_GEWERKE)"
   ]
  },
  {
   "cell_type": "code",
   "execution_count": null,
   "id": "f1d37a88-e621-4075-83cd-92cf919992cc",
   "metadata": {},
   "outputs": [],
   "source": [
    "list_paths_sheets"
   ]
  },
  {
   "cell_type": "code",
   "execution_count": null,
   "id": "c0fc6cb9-b960-4af5-b2d2-3d7257df908c",
   "metadata": {},
   "outputs": [],
   "source": [
    "list_paths_sheets[-4]"
   ]
  },
  {
   "cell_type": "code",
   "execution_count": null,
   "id": "def39756-3ff8-4e15-8b63-c4c81404de12",
   "metadata": {},
   "outputs": [],
   "source": [
    "def get_paths_sheets_by_name(list_path_sheets: list, gewerk: str, sheet: str):\n",
    "    for path_sheet in list_path_sheets:\n",
    "        path_offer = path_sheet['path_offer'].replace('.xlsx', '')\n",
    "        if path_offer.endswith(gewerk) and sheet == path_sheet['sheet_name']:\n",
    "            return path_sheet\n",
    "\n"
   ]
  },
  {
   "cell_type": "code",
   "execution_count": null,
   "id": "ec16bcfd-e0da-4e34-a7c1-a180c8feedee",
   "metadata": {},
   "outputs": [],
   "source": [
    "# pick gewerke\n",
    "list_combine_path_sheets = []\n",
    "baumeister = get_paths_sheets_by_name(list_paths_sheets, \"Baumeister\", \"Mueller_Minimum\")\n",
    "bautischler = get_paths_sheets_by_name(list_paths_sheets, \"Bautischler\", \"Julia_Minimum\")\n",
    "bodenleger = get_paths_sheets_by_name(list_paths_sheets, \"Bodenleger\", \"Julia_Minimum\")\n",
    "dachdecker = get_paths_sheets_by_name(list_paths_sheets, \"Dachdecker\", \"Wurzrainer_Minimum_2\")\n",
    "fenster = get_paths_sheets_by_name(list_paths_sheets, \"Fenster\", \"Kitzfenster_Minimum\")\n",
    "fliesenleger = get_paths_sheets_by_name(list_paths_sheets, \"Fliesenleger\", \"Kostenschaetzung_Minimum\")\n",
    "installateur = get_paths_sheets_by_name(list_paths_sheets, \"Installateur\", \"Kracher_Minimum\")\n",
    "klaer = get_paths_sheets_by_name(list_paths_sheets, \"Klaeranlage\", \"Hechenbichler_1\")\n",
    "kostensch = get_paths_sheets_by_name(list_paths_sheets, \"Kostenschaetzung\", \"Kostenschaetzung_Minimum_2\")\n",
    "nebenkosten = get_paths_sheets_by_name(list_paths_sheets, \"Nebenkosten\", \"Schaetzung_Minimum\")\n",
    "zimmerer = get_paths_sheets_by_name(list_paths_sheets, \"Zimmerer\", \"Foidl_Minimum\")\n",
    "\n",
    "list_combine_path_sheets.append(baumeister)\n",
    "list_combine_path_sheets.append(bautischler)\n",
    "list_combine_path_sheets.append(bodenleger)\n",
    "list_combine_path_sheets.append(dachdecker)\n",
    "list_combine_path_sheets.append(fenster)\n",
    "list_combine_path_sheets.append(fliesenleger)\n",
    "list_combine_path_sheets.append(installateur)\n",
    "list_combine_path_sheets.append(klaer)\n",
    "list_combine_path_sheets.append(kostensch)\n",
    "list_combine_path_sheets.append(nebenkosten)\n",
    "list_combine_path_sheets.append(zimmerer)"
   ]
  },
  {
   "cell_type": "code",
   "execution_count": null,
   "id": "4a31f84d-5f13-4764-835a-6e034bf4158b",
   "metadata": {},
   "outputs": [],
   "source": [
    "\n",
    "list_combine_path_sheets"
   ]
  },
  {
   "cell_type": "code",
   "execution_count": null,
   "id": "0c48e80c-a1aa-4753-a658-a2ac56e1d349",
   "metadata": {},
   "outputs": [],
   "source": []
  },
  {
   "cell_type": "code",
   "execution_count": null,
   "id": "62637fd4-6dcf-42c8-a115-376eae50ce41",
   "metadata": {},
   "outputs": [],
   "source": [
    "df_offers = get_df_offers_combined(list_combine_path_sheets)\n",
    "df_combined = append_rolled_up_sum_to_df(df_offers, df_gewerke)\n",
    "\n",
    "df_combined.loc[df_combined['level'] == 0][['summed_up']].sum() * 1.1# 5 % sicherheitsreserve"
   ]
  },
  {
   "cell_type": "code",
   "execution_count": null,
   "id": "5e592bab-99b7-463a-9ee3-a7c9740106f3",
   "metadata": {},
   "outputs": [],
   "source": [
    "display_cols=['level', 'id_0', 'id_1', 'Beschreibung', 'Brutto', 'E-Preis', 'Einheit', 'Gesamtpreis', 'Menge', 'summed_up']\n",
    "\n",
    "df_combined.loc[df_combined['level'] == 1][display_cols]"
   ]
  },
  {
   "cell_type": "code",
   "execution_count": null,
   "id": "6abeb333-31cc-4111-85f6-2f930330605a",
   "metadata": {},
   "outputs": [],
   "source": [
    "df_combined.to_csv('./data/test.csv')"
   ]
  },
  {
   "cell_type": "code",
   "execution_count": null,
   "id": "80f69578-c38e-41f9-8030-9b855fbe2d4b",
   "metadata": {},
   "outputs": [],
   "source": [
    "df_combined[display_cols].to_csv('current.csv')"
   ]
  },
  {
   "cell_type": "code",
   "execution_count": null,
   "id": "89c8326d",
   "metadata": {},
   "outputs": [],
   "source": [
    "df_combined.columns"
   ]
  },
  {
   "cell_type": "code",
   "execution_count": null,
   "id": "7db4ea13",
   "metadata": {},
   "outputs": [],
   "source": [
    "df_combined.columns"
   ]
  },
  {
   "cell_type": "code",
   "execution_count": null,
   "id": "45afd7d7",
   "metadata": {},
   "outputs": [],
   "source": []
  }
 ],
 "metadata": {
  "kernelspec": {
   "display_name": "Python 3 (ipykernel)",
   "language": "python",
   "name": "python3"
  },
  "language_info": {
   "codemirror_mode": {
    "name": "ipython",
    "version": 3
   },
   "file_extension": ".py",
   "mimetype": "text/x-python",
   "name": "python",
   "nbconvert_exporter": "python",
   "pygments_lexer": "ipython3",
   "version": "3.9.9"
  }
 },
 "nbformat": 4,
 "nbformat_minor": 5
}
