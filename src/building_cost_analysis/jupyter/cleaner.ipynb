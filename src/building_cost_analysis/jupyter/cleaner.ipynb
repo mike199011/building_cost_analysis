{
 "cells": [
  {
   "cell_type": "code",
   "execution_count": null,
   "id": "4e7bb4f5-0781-42d7-92eb-5ec56babdcf2",
   "metadata": {},
   "outputs": [],
   "source": [
    "import pandas as pd\n",
    "import numpy as np\n",
    "\n",
    "# 3 parts:\n",
    "# kostenschätzung\n",
    "# ausgabenberechnung (bilanz berechnen => schätzung vs. tatsächliche kosten)\n",
    "# kostenvergleich"
   ]
  },
  {
   "cell_type": "code",
   "execution_count": null,
   "id": "aa36241b-71ca-49d4-b865-6814cb43727e",
   "metadata": {},
   "outputs": [],
   "source": [
    "from building_cost_analysis.settings import (\n",
    "    dir_angebote,\n",
    "    path_gewerke\n",
    ")\n",
    "from building_cost_analysis.parser import (\n",
    "    get_df_gewerke,\n",
    "    get_offer_file_paths,\n",
    "    get_offer_file_paths_and_sheets,\n",
    "    get_df_offer,\n",
    "    get_df_offers_combined,\n",
    "    get_list_df_offers\n",
    ")\n",
    "\n",
    "from building_cost_analysis.calc import (\n",
    "    append_rolled_up_sum_to_df,\n",
    "    get_df_duplicated_positions,\n",
    "    compare_offers,\n",
    "    get_missing_positions\n",
    ")\n",
    "\n",
    "# get_df_offers_combined\n",
    "list_paths_sheets = get_offer_file_paths_and_sheets(dir_angebote)\n",
    "df_gewerke = get_df_gewerke(path_gewerke)"
   ]
  },
  {
   "cell_type": "code",
   "execution_count": null,
   "id": "4a31f84d-5f13-4764-835a-6e034bf4158b",
   "metadata": {},
   "outputs": [],
   "source": [
    "list_combine_path_sheets = []\n",
    "for entry in list_paths_sheets:\n",
    "    if entry['sheet_name'].endswith('Minimum'):\n",
    "        list_combine_path_sheets.append(entry)\n",
    "list_combine_path_sheets"
   ]
  },
  {
   "cell_type": "code",
   "execution_count": null,
   "id": "0c48e80c-a1aa-4753-a658-a2ac56e1d349",
   "metadata": {},
   "outputs": [],
   "source": []
  },
  {
   "cell_type": "code",
   "execution_count": null,
   "id": "62637fd4-6dcf-42c8-a115-376eae50ce41",
   "metadata": {},
   "outputs": [],
   "source": [
    "df_offers = get_df_offers_combined(list_combine_path_sheets)\n",
    "df_combined = append_rolled_up_sum_to_df(df_offers, df_gewerke)\n",
    "\n",
    "df_combined.loc[df_combined['level'] == 0][['summed_up']].sum() * 1.1# 5 % sicherheitsreserve"
   ]
  },
  {
   "cell_type": "code",
   "execution_count": null,
   "id": "5e592bab-99b7-463a-9ee3-a7c9740106f3",
   "metadata": {},
   "outputs": [],
   "source": [
    "df_combined.loc[df_combined['level'] == 1]"
   ]
  },
  {
   "cell_type": "code",
   "execution_count": null,
   "id": "041ec24f-7aa7-49d7-ae1e-5273725cd2ed",
   "metadata": {},
   "outputs": [],
   "source": [
    "list_test = list( list_paths_sheets[i] for i in [-3, -1] )\n",
    "list_test\n",
    "list_df_offers = get_list_df_offers(list_test)"
   ]
  },
  {
   "cell_type": "code",
   "execution_count": null,
   "id": "3d8d6a11-782c-4d6d-b869-b91f417c47c2",
   "metadata": {},
   "outputs": [],
   "source": [
    "\n",
    "list_df_offers = get_list_df_offers(list_paths_sheets[-12:-10])"
   ]
  },
  {
   "cell_type": "code",
   "execution_count": null,
   "id": "dc453320-4217-40aa-89f0-a8ebeeac78ad",
   "metadata": {},
   "outputs": [],
   "source": [
    "def compare_offers(list_df_offers: list, df_gewerke: pd.DataFrame) -> pd.DataFrame:\n",
    "    # use to compare different offers\n",
    "    list_summed_up = []\n",
    "    df_combined = None\n",
    "    for df_offer in list_df_offers:\n",
    "        df = append_rolled_up_sum_to_df(df_offer, df_gewerke)\n",
    "        df = df.loc[df['prices_existing'] == True]\n",
    "        sheet_name = df['sheet_name'].dropna().iloc[0]\n",
    "        cols_to_rename = ['summed_up', 'E-Preis', 'Einheit', 'Menge', 'Gesamtpreis']\n",
    "        rename_dict = {}\n",
    "        for col_to_rename in cols_to_rename:\n",
    "            rename_dict[col_to_rename] = col_to_rename + '_' + sheet_name\n",
    "        df = df.rename(columns=rename_dict)\n",
    "        list_summed_up.append(df)\n",
    "        if df_combined is None:\n",
    "            df_combined = df\n",
    "        else:\n",
    "            df_combined = df_combined.combine_first(df)\n",
    "    return df_combined\n",
    "\n",
    "df_compare = compare_offers(list_df_offers, df_gewerke)\n",
    "cols_display = ['summed_up', 'E-Preis', 'Einheit', 'Menge', 'Gesamtpreis']\n",
    "sheet_names = ['Brunnschmid_1', 'Kracher_1']\n",
    "cols_final = ['Beschreibung']\n",
    "for col_display in cols_display:\n",
    "    for sheet_name in sheet_names:\n",
    "        cols_final.append(col_display + '_' + sheet_name)\n",
    "                              \n",
    "df_compare.loc[df_compare['level'] == 3][cols_final]"
   ]
  },
  {
   "cell_type": "code",
   "execution_count": null,
   "id": "bdce0020-4572-4318-845c-d5f9511cafb3",
   "metadata": {},
   "outputs": [],
   "source": [
    "import dash_bootstrap_components as dbc\n",
    "df = pd.DataFrame(\n",
    "    {\n",
    "        \"First Name\": [\"Arthur\", \"Ford\", \"Zaphod\", \"Trillian\"],\n",
    "        \"Last Name\": [\"Dent\", \"Prefect\", \"Beeblebrox\", \"Astra\"],\n",
    "    }\n",
    ")\n",
    "\n",
    "table = dbc.Table.from_dataframe(df_offer, striped=True, bordered=True, hover=True)\n"
   ]
  },
  {
   "cell_type": "code",
   "execution_count": null,
   "id": "99b74682-bfc4-42a2-a4cc-0db39f6294fd",
   "metadata": {},
   "outputs": [],
   "source": [
    "def append_rolled_up_sum_to_df_test(df_offers: pd.DataFrame, df_gewerke: pd.DataFrame) -> pd.DataFrame:\n",
    "    df_offers_int = df_offers.copy()\n",
    "    df_offers_int['desc_offer'] = df_offers['Beschreibung']\n",
    "    df_offers_int = df_offers_int.drop(columns=['Beschreibung'])\n",
    "    df_combined = df_offers_int.combine_first(df_gewerke)\n",
    "    max_level = df_combined['level'].max()\n",
    "    list_level_sums = []\n",
    "    list_ids_sort = []\n",
    "    for cur_level in range(max_level+1):\n",
    "        list_ids_sort.append(f'id_{cur_level}')\n",
    "        list_ids = []\n",
    "        for lev in range(cur_level + 1):\n",
    "            list_ids.append(f'id_{lev}')\n",
    "        df_level = df_combined.loc[df_combined['level'] >= cur_level]\n",
    "        df_level_count = df_level.groupby(list_ids).count()\n",
    "        df_level_sum = df_level.groupby(list_ids).sum()\n",
    "        df_level_sum['summed_up'] = df_level_sum['price_brutto']\n",
    "        df_level_count['prices_existing'] = False\n",
    "        df_level_count.loc[df_level_count['price_brutto'] != 0, 'prices_existing'] = True\n",
    "        df_level_sum = df_level_sum[['summed_up']].combine_first(df_level_count[['prices_existing']])\n",
    "        df_level_sum['level'] = cur_level\n",
    "        df_level_sum = df_level_sum.reset_index()\n",
    "        df_level_sum['ID'] = df_level_sum['id_0'].astype(int).astype(str)\n",
    "        for lev in range(1, cur_level + 1):\n",
    "            df_level_sum['ID'] += \".\" + df_level_sum[f'id_{lev}'].astype(int).astype(str)\n",
    "        list_level_sums.append(df_level_sum)\n",
    "    df_rolled_up_sum = pd.DataFrame()\n",
    "\n",
    "    for df_sum in list_level_sums:\n",
    "        df_rolled_up_sum = df_rolled_up_sum.combine_first(df_sum.set_index('ID'))\n",
    "    df_ret = df_combined.combine_first(df_rolled_up_sum[['prices_existing', 'summed_up']])\n",
    "    df_ret = df_ret.sort_values(list_ids_sort)\n",
    "    return df_ret\n",
    "\n",
    "\n",
    "append_rolled_up_sum_to_df_test(list_df_offers[0], df_gewerke).to_csv('./data/test.csv')\n",
    "\n"
   ]
  },
  {
   "cell_type": "code",
   "execution_count": null,
   "id": "d03e9141-ec07-4906-b22c-49b1423845a1",
   "metadata": {},
   "outputs": [],
   "source": [
    "get_df_gewerke"
   ]
  }
 ],
 "metadata": {
  "kernelspec": {
   "display_name": "Python 3 (ipykernel)",
   "language": "python",
   "name": "python3"
  },
  "language_info": {
   "codemirror_mode": {
    "name": "ipython",
    "version": 3
   },
   "file_extension": ".py",
   "mimetype": "text/x-python",
   "name": "python",
   "nbconvert_exporter": "python",
   "pygments_lexer": "ipython3",
   "version": "3.9.9"
  }
 },
 "nbformat": 4,
 "nbformat_minor": 5
}
